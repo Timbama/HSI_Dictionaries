{
 "cells": [
  {
   "cell_type": "code",
   "execution_count": 1,
   "metadata": {},
   "outputs": [],
   "source": [
    "%matplotlib qt\n",
    "import matplotlib\n",
    "from Optimization import morph_opt, reg_opt\n",
    "import numpy as np\n",
    "from extract_data import initialize_file, normalize, get_spectral_library, convert_library,remove_bands, prune_library\n",
    "from skimage.morphology import square\n",
    "from create_hsi import create_hsi\n",
    "import matplotlib.pyplot as plt\n",
    "from spectral import view_cube, imshow\n",
    "from sklearn.preprocessing import Imputer\n",
    "from evaluate import compare_abundance, calculate_rsme\n",
    "import hyperspy.api as hs"
   ]
  },
  {
   "cell_type": "code",
   "execution_count": 12,
   "metadata": {},
   "outputs": [
    {
     "name": "stdout",
     "output_type": "stream",
     "text": [
      "Endmembers Size: (256, 3) (number of bands x number of endmembers x number of images)\n",
      "Image Size: (256, 106, 98) (number of endmembers x width x length)\n",
      "Library Size: (256, 3) (number of bands x number of endmembers )\n",
      "Data Size: (256, 10388) (number of bands x number of samples)\n",
      "(3, 10388)\n",
      "iteration:10\tprimal:5.456179784082783\tdual:1.079093564109521\n",
      "iteration:20\tprimal:0.8820712156585835\tdual:0.057830125995439075\n",
      "iteration:30\tprimal:0.14566846124659655\tdual:0.014704794859327602\n",
      "iteration:40\tprimal:0.028767703030293804\tdual:0.007801945133404323\n",
      "iteration:50\tprimal:0.011213296999709722\tdual:0.004833002491007561\n",
      "iteration:60\tprimal:0.0071731572419173675\tdual:0.0032869173640096283\n",
      "iteration:70\tprimal:0.005223165017683466\tdual:0.0024153163052943027\n",
      "iteration:80\tprimal:0.004016779319894532\tdual:0.001866320809035545\n",
      "iteration:90\tprimal:0.003092981989498213\tdual:0.0014380218638666898\n",
      "iteration:100\tprimal:0.002395987661208201\tdual:0.001112089902536839\n",
      "iteration:110\tprimal:0.0018764791786225186\tdual:0.0008663844272419372\n",
      "iteration:120\tprimal:0.001539530817937702\tdual:0.0007129743168836741\n",
      "iteration:130\tprimal:0.0012672774176022356\tdual:0.0005887037647900186\n",
      "iteration:140\tprimal:0.001050060633707329\tdual:0.00048572356693467257\n",
      "iteration:150\tprimal:0.0008758602096280518\tdual:0.00040471710016649936\n",
      "iteration:160\tprimal:0.0007447455295222903\tdual:0.00034371708130010744\n",
      "iteration:170\tprimal:0.000636704535577059\tdual:0.0002950698690283558\n",
      "iteration:180\tprimal:0.0005344960482283589\tdual:0.000246099211627863\n",
      "iteration:190\tprimal:0.00046063735870859604\tdual:0.00021167561810548613\n",
      "iteration:200\tprimal:0.0004044904729694259\tdual:0.00018579569629263785\n",
      "iteration:210\tprimal:0.00035347272452871054\tdual:0.00016260451309056887\n",
      "iteration:220\tprimal:0.0003106009020474081\tdual:0.00014241126640322343\n",
      "iteration:230\tprimal:0.0002702990547136075\tdual:0.00012414601947376383\n",
      "iteration:240\tprimal:0.00023689634859409543\tdual:0.00010846428769567005\n",
      "iteration:250\tprimal:0.00020780151892932667\tdual:9.500811618369154e-05\n",
      "iteration:260\tprimal:0.00018450111138714585\tdual:8.435843347292805e-05\n",
      "iteration:270\tprimal:0.00016467065185224255\tdual:7.525915892028975e-05\n",
      "iteration:280\tprimal:0.00014732212950814444\tdual:6.729031786393407e-05\n",
      "iteration:290\tprimal:0.000131966322415263\tdual:6.0238656047444216e-05\n",
      "iteration:300\tprimal:0.00011819235203698985\tdual:5.3934426264020604e-05\n",
      "Abundance Fraction Size: (3, 10388) (number of endmembers x number of samples)\n",
      "The shape of the image is  (256, 106, 98)\n"
     ]
    }
   ],
   "source": [
    "\n",
    "\n",
    "mu =.2\n",
    "lamb = .001\n",
    "gamma = .01\n",
    "n_iter = 300\n",
    "width = 2\n",
    "strel = square(width)\n",
    "\n",
    "#collection = initialize_file('Legendre.mat', key='syntheticImageCollection')\n",
    "#print(\"Collection Size:\", collection.shape, \"(number of bands x width x length x number of images)\")\n",
    "endmembers_gt = initialize_file('scene_1.mat', key='endmembers_gt')\n",
    "print(\"Endmembers Size:\", endmembers_gt.shape, \"(number of bands x number of endmembers x number of images)\")\n",
    "#abundances_gt = initialize_file('hyperspectral.mat', key='abundancies')\n",
    "#print(\"Abundances Size:\", abundances_gt.shape, \"(number of endmembers x width x length)\")\n",
    "#abundance_reshape = np.reshape(abundances_gt, (abundances_gt.shape[0], abundances_gt.shape[1]*abundances_gt.shape[2]))\n",
    "#print(\"Abundances Reshape Size:\", abundance_reshape.shape, \"(number of samples x number of endmembers)\")\n",
    "#gt = np.zeros((endmembers_gt.shape[1], abundances_gt.shape[1]*abundances_gt.shape[2]))\n",
    "#gt = abundance_reshape\n",
    "#print(\"Abundance groundtruth reshape Size:\", gt.shape, \"(number of samples x number of endmembers)\")\n",
    "img = initialize_file('scene_1.mat', key='mixture_2')\n",
    "print(\"Image Size:\", img.shape, \"(number of endmembers x width x length)\")\n",
    "lib = endmembers_gt\n",
    "print(\"Library Size:\", lib.shape, \"(number of bands x number of endmembers )\")\n",
    "data = np.reshape(img, (img.shape[0], img.shape[1]*img.shape[2]))\n",
    "print(\"Data Size:\", data.shape, \"(number of bands x number of samples)\")\n",
    "X_reg = morph_opt(lib, data, lamb, gamma, mu, strel, n_iter)\n",
    "print(\"Abundance Fraction Size:\", X_reg.shape, \"(number of endmembers x number of samples)\")\n",
    "#avg = compare_abundance(gt, X_reg)\n",
    "#print(\"The RSME is \", avg)\n",
    "visual = np.dot(lib, X_reg)\n",
    "visual = np.reshape(visual, (img.shape[0], img.shape[1], img.shape[2]))\n",
    "print(\"The shape of the image is \", visual.shape)"
   ]
  },
  {
   "cell_type": "code",
   "execution_count": 4,
   "metadata": {},
   "outputs": [],
   "source": [
    "#test = np.reshape(X_reg, (gt.shape[0],abundances_gt.shape[1],abundances_gt.shape[2]))\n",
    "#test = np.swapaxes(test, 0,2)\n",
    "#recon = hs.signals.Signal1D(test)\n",
    "#recon.plot()\n",
    "#thing = np.reshape(gt, (gt.shape[0],abundances_gt.shape[1],abundances_gt.shape[2]))\n",
    "#thing = np.swapaxes(thing, 0,2)\n",
    "#true = hs.signals.Signal1D(thing)\n",
    "#true.plot()"
   ]
  },
  {
   "cell_type": "code",
   "execution_count": 15,
   "metadata": {},
   "outputs": [
    {
     "name": "stdout",
     "output_type": "stream",
     "text": [
      "The shape of the image is  (256, 106, 98)\n",
      "The shape of the image is  (98, 106, 256)\n"
     ]
    }
   ],
   "source": [
    "visual_test = np.swapaxes(visual,0,2)\n",
    "print(\"The shape of the image is \", visual.shape)\n",
    "s = hs.signals.Signal1D(visual_test)\n",
    "s.plot()\n",
    "gt_img = np.swapaxes(img,0,2)\n",
    "print(\"The shape of the image is \", gt_img.shape)\n",
    "orig = hs.signals.Signal1D(gt_img)\n",
    "orig.plot()"
   ]
  },
  {
   "cell_type": "code",
   "execution_count": 10,
   "metadata": {},
   "outputs": [
    {
     "ename": "NameError",
     "evalue": "name 'test' is not defined",
     "output_type": "error",
     "traceback": [
      "\u001b[1;31m---------------------------------------------------------------------------\u001b[0m",
      "\u001b[1;31mNameError\u001b[0m                                 Traceback (most recent call last)",
      "\u001b[1;32m<ipython-input-10-319ab06672a4>\u001b[0m in \u001b[0;36m<module>\u001b[1;34m\u001b[0m\n\u001b[0;32m      1\u001b[0m \u001b[0mabundance_img\u001b[0m \u001b[1;33m=\u001b[0m \u001b[0mnp\u001b[0m\u001b[1;33m.\u001b[0m\u001b[0mreshape\u001b[0m\u001b[1;33m(\u001b[0m\u001b[0mX_reg\u001b[0m\u001b[1;33m,\u001b[0m \u001b[1;33m(\u001b[0m\u001b[0mendmembers_gt\u001b[0m\u001b[1;33m.\u001b[0m\u001b[0mshape\u001b[0m\u001b[1;33m[\u001b[0m\u001b[1;36m1\u001b[0m\u001b[1;33m]\u001b[0m\u001b[1;33m,\u001b[0m\u001b[0mimg\u001b[0m\u001b[1;33m.\u001b[0m\u001b[0mshape\u001b[0m\u001b[1;33m[\u001b[0m\u001b[1;36m1\u001b[0m\u001b[1;33m]\u001b[0m\u001b[1;33m,\u001b[0m\u001b[0mimg\u001b[0m\u001b[1;33m.\u001b[0m\u001b[0mshape\u001b[0m\u001b[1;33m[\u001b[0m\u001b[1;36m2\u001b[0m\u001b[1;33m]\u001b[0m\u001b[1;33m)\u001b[0m\u001b[1;33m)\u001b[0m\u001b[1;33m\u001b[0m\u001b[1;33m\u001b[0m\u001b[0m\n\u001b[1;32m----> 2\u001b[1;33m \u001b[0mtest\u001b[0m \u001b[1;33m=\u001b[0m \u001b[0mnp\u001b[0m\u001b[1;33m.\u001b[0m\u001b[0mswapaxes\u001b[0m\u001b[1;33m(\u001b[0m\u001b[0mtest\u001b[0m\u001b[1;33m,\u001b[0m \u001b[1;36m0\u001b[0m\u001b[1;33m,\u001b[0m\u001b[1;36m2\u001b[0m\u001b[1;33m)\u001b[0m\u001b[1;33m\u001b[0m\u001b[1;33m\u001b[0m\u001b[0m\n\u001b[0m\u001b[0;32m      3\u001b[0m \u001b[0mrecon\u001b[0m \u001b[1;33m=\u001b[0m \u001b[0mhs\u001b[0m\u001b[1;33m.\u001b[0m\u001b[0msignals\u001b[0m\u001b[1;33m.\u001b[0m\u001b[0mSignal1D\u001b[0m\u001b[1;33m(\u001b[0m\u001b[0mtest\u001b[0m\u001b[1;33m)\u001b[0m\u001b[1;33m\u001b[0m\u001b[1;33m\u001b[0m\u001b[0m\n\u001b[0;32m      4\u001b[0m \u001b[0mrecon\u001b[0m\u001b[1;33m.\u001b[0m\u001b[0mplot\u001b[0m\u001b[1;33m(\u001b[0m\u001b[1;33m)\u001b[0m\u001b[1;33m\u001b[0m\u001b[1;33m\u001b[0m\u001b[0m\n",
      "\u001b[1;31mNameError\u001b[0m: name 'test' is not defined"
     ]
    }
   ],
   "source": [
    "abundance_img = np.reshape(X_reg, (endmembers_gt.shape[1],img.shape[1],img.shape[2]))\n",
    "test = np.swapaxes(abundance_img, 0,2)\n",
    "recon = hs.signals.Signal1D(test)\n",
    "recon.plot()"
   ]
  },
  {
   "cell_type": "code",
   "execution_count": 5,
   "metadata": {},
   "outputs": [
    {
     "name": "stdout",
     "output_type": "stream",
     "text": [
      "Shape of Image (106, 98)\n",
      "Shape of Image (106, 98)\n",
      "Shape of Image (106, 98)\n",
      "RSME Cyan \t 0.016734212576542597\n",
      "RSME Magenta \t 0.030792281688077648\n",
      "RSME Yellow \t 0.050830912876662276\n"
     ]
    }
   ],
   "source": [
    "abundance_img = np.reshape(X_reg, (endmembers_gt.shape[1],img.shape[1],img.shape[2]))\n",
    "gt_cyan = np.tile(.3333333, (img.shape[1], img.shape[2]))\n",
    "gt_magenta = np.tile(.333333, (img.shape[1], img.shape[2]))\n",
    "gt_yellow = np.tile(.333333, (img.shape[1], img.shape[2]))\n",
    "rsme_cyan = calculate_rsme(gt_cyan, abundance_img[0,:,:])\n",
    "rsme_magenta = calculate_rsme(gt_magenta, abundance_img[1,:,:])\n",
    "rsme_yellow = calculate_rsme(gt_yellow, abundance_img[2,:,:])\n",
    "print(\"RSME Cyan \\t\", rsme_cyan)\n",
    "print(\"RSME Magenta \\t\", rsme_magenta)\n",
    "print(\"RSME Yellow \\t\", rsme_yellow)"
   ]
  },
  {
   "cell_type": "code",
   "execution_count": 13,
   "metadata": {},
   "outputs": [
    {
     "name": "stdout",
     "output_type": "stream",
     "text": [
      "Shape of Image (256, 10388)\n",
      "Shape of Norm (256,)\n",
      "RSME\t 0.013392167015321085\n"
     ]
    }
   ],
   "source": [
    "recon_novis = np.dot(lib,X_reg)\n",
    "rsme = compare_abundance(data, recon_novis)\n",
    "print(\"RSME\\t\",rsme)"
   ]
  },
  {
   "cell_type": "code",
   "execution_count": null,
   "metadata": {},
   "outputs": [],
   "source": []
  }
 ],
 "metadata": {
  "kernelspec": {
   "display_name": "Python 3",
   "language": "python",
   "name": "python3"
  },
  "language_info": {
   "codemirror_mode": {
    "name": "ipython",
    "version": 3
   },
   "file_extension": ".py",
   "mimetype": "text/x-python",
   "name": "python",
   "nbconvert_exporter": "python",
   "pygments_lexer": "ipython3",
   "version": "3.6.4"
  }
 },
 "nbformat": 4,
 "nbformat_minor": 2
}
